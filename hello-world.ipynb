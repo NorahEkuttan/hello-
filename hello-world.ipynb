#lets import the panda library
import pandas as pd
#as well as numpy library
import numpy as np

#Loading our csv file into panda
df1 = pd.read_csv("/content/Telcom_dataset_1.csv")
df1

loading telcom dataset 2
df2 = pd.read_csv("/content/Telcom_dataset_2.csv")
df2

#loading Telcom dataset for day 3
df3 = pd.read_csv("/content/Telcom_dataset_3.csv")
df3

merging the three tables using the vertical concat

df = pd.concat([df1,df2,df3],axis=0)
df

checking the number of rows missing
df.isnull().sum()

#Checking if there are missing values in my data
df.isnull()

#Dropping rows with missing values
df_no_missing = df.dropna()
df_no_missing

grouped_df = df_no_missing.groupby(['VALUE']).max()
print(grouped_df['PRODUCT'])
grouped_df

importing the geo csv
df4 = pd.read_csv('/content/cells_geo.csv',sep = ";")
df4

#checking the number of missing values
df4.isnull().sum()

df4.isnull()

df_no_missing1 = df4.dropna()
df_no_missing1

#Analysing its data
df_no_missing1['VILLES'].describe()

grouped_df =df_no_missing1.groupby(['VILLES']).max()
print(grouped_df['STATUS'])
grouped_df
